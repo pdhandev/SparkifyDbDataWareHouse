{
 "cells": [
  {
   "cell_type": "markdown",
   "metadata": {
    "editable": true
   },
   "source": [
    "# SparkifyDb (Data Warehouse)  \n",
    "\n",
    "#### Purpose\n",
    "The ETL project is designed and implemented to help my company Sparkify to perform analysis on users' song play activity using our new music app using AWS for Data Warehouse purpose.\n",
    "\n",
    "#### Database schema design and ETL pipeline\n",
    "Database design follows the STAR schema for tables. It has a Fact table : songplays and four Dimension tables: songs, artists, time and users.\n",
    "\n",
    "**What** the user was listening to (songs)\n",
    "**Which** artist was user listening to (artists)\n",
    "**When** the user was listening to the songs (time)\n",
    "**Who** was listening the songs (users)\n",
    "\n",
    "**How** and Where the user was listening to the songs (songplays)\n",
    "\n",
    "\n",
    "The data is ingested from _Amazon S3_ to _Amazon Redshift_ databases. Data gets copied from two source folders _song_data_ and _log_data_ using COPY in two staging tables: staging_songs and staging_events respectively. Data is further filtered, transformed and inserted in the dimension and fact tables using SQL query statements. The tables are in their normal form to avoid any duplication and taking into consideration the efficiency of running the most frequent queries.\n",
    "\n",
    "#### Example of some analysis query that can be tried in Query Editor:\n",
    "- How many paid users were there?\n",
    "   ```sh\n",
    "  SELECT count(*) from users where level='paid';\n",
    "   ```\n",
    "- How many free users were there?\n",
    "   ```sh\n",
    "  SELECT count(*) from users where level='free';\n",
    "   ```\n",
    "- Most frequently listened artists or songs?\n",
    "   ```sh\n",
    "  SELECT song_id, COUNT(song_id) from songplays GROUP BY song_id ORDER BY COUNT(song_id) DESC LIMIT 1;\n",
    "  SELECT artist_id, COUNT(artist_id) from songplays GROUP BY artist_id ORDER BY COUNT(artist_id) DESC LIMIT 1;\n",
    "  SELECT time.weekday, COUNT(time.weekday)\n",
    "  FROM time JOIN songplays\n",
    "  ON time.start_time = songplays.start_time\n",
    "  GROUP BY time.weekday\n",
    "  ORDER BY COUNT(time.weekday) DESC LIMIT 1;\n",
    "   ```\n",
    "- Weekday with most activity?\n",
    "   ```sh\n",
    "  SELECT time.weekday, COUNT(time.weekday)\n",
    "  FROM time JOIN songplays\n",
    "  ON time.start_time = songplays.start_time\n",
    "  GROUP BY time.weekday\n",
    "  ORDER BY COUNT(time.weekday) DESC LIMIT 1;\n",
    "  ```\n",
    "\n",
    "#### How to use the product?\n",
    "0. Set up Amazon Redhsift cluster and update the dwh.cfg file with Redshift cluster's HOST credentials and IAM role ARN.\n",
    "\n",
    "1. Run create_tables.py from terminal to drop existing tables and create new tables.\n",
    "```sh\n",
    "root@0cc7f703976a:/home/workspace# python create_tables.py\n",
    "```\n",
    "\n",
    "![image info](./data/create_tables.png)\n",
    "\n",
    "\n",
    "2. Run etl.py from terminal to read in staging tables data and insert records in the star schema tables.\n",
    "```sh\n",
    "root@0cc7f703976a:/home/workspace# python etl.py\n",
    "```\n",
    "\n",
    "![alt text](./data/etl.png)\n",
    "\n",
    "\n",
    "3. Use Query Editor in Cluster to add and run analytical queries.   \n",
    "   \n",
    "\n",
    "\n",
    "### REMEMBER: Make sure to `delete` cluster to avoid unneccessary cost after testing"
   ]
  },
  {
   "cell_type": "code",
   "execution_count": null,
   "metadata": {
    "editable": true
   },
   "outputs": [],
   "source": []
  }
 ],
 "metadata": {
  "kernelspec": {
   "display_name": "Python 3",
   "language": "python",
   "name": "python3"
  },
  "language_info": {
   "codemirror_mode": {
    "name": "ipython",
    "version": 3
   },
   "file_extension": ".py",
   "mimetype": "text/x-python",
   "name": "python",
   "nbconvert_exporter": "python",
   "pygments_lexer": "ipython3",
   "version": "3.6.3"
  }
 },
 "nbformat": 4,
 "nbformat_minor": 4
}
